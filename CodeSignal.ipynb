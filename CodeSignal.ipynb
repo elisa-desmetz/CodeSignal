{
 "cells": [
  {
   "cell_type": "markdown",
   "metadata": {},
   "source": [
    "# CodeSignal\n",
    "## The Journey Begins\n",
    "### centuryFromYear"
   ]
  },
  {
   "cell_type": "code",
   "execution_count": 1,
   "metadata": {},
   "outputs": [
    {
     "data": {
      "text/plain": [
       "20"
      ]
     },
     "execution_count": 1,
     "metadata": {},
     "output_type": "execute_result"
    }
   ],
   "source": [
    "def centuryFromYear(year):\n",
    "    if year%100==0:\n",
    "        century=int(year/100)\n",
    "    else:\n",
    "        century=int(year/100)+1\n",
    "    return century\n",
    "\n",
    "centuryFromYear(1905)"
   ]
  },
  {
   "cell_type": "markdown",
   "metadata": {},
   "source": [
    "### checkPalindrome"
   ]
  },
  {
   "cell_type": "code",
   "execution_count": 3,
   "metadata": {},
   "outputs": [
    {
     "data": {
      "text/plain": [
       "True"
      ]
     },
     "execution_count": 3,
     "metadata": {},
     "output_type": "execute_result"
    }
   ],
   "source": [
    "def checkPalindrome(inputString):\n",
    "    if inputString == inputString[::-1] :\n",
    "        flag=True\n",
    "    else:\n",
    "        flag=False\n",
    "    return flag\n",
    "\n",
    "checkPalindrome(\"aabaa\")"
   ]
  },
  {
   "cell_type": "markdown",
   "metadata": {},
   "source": [
    "## Edge of the ocean\n",
    "### adjacentElementsProduct"
   ]
  },
  {
   "cell_type": "code",
   "execution_count": 4,
   "metadata": {},
   "outputs": [
    {
     "data": {
      "text/plain": [
       "21"
      ]
     },
     "execution_count": 4,
     "metadata": {},
     "output_type": "execute_result"
    }
   ],
   "source": [
    "def adjacentElementsProduct(inputArray):\n",
    "    maxprod=inputArray[0]*inputArray[1]\n",
    "    for i in range (1, len(inputArray)):\n",
    "        prod=inputArray[i-1]*inputArray[i]\n",
    "        if prod > maxprod :\n",
    "            maxprod=prod\n",
    "    return maxprod\n",
    "\n",
    "adjacentElementsProduct([3, 6, -2, -5, 7, 3])"
   ]
  },
  {
   "cell_type": "markdown",
   "metadata": {},
   "source": [
    "### shapeArea"
   ]
  },
  {
   "cell_type": "code",
   "execution_count": 6,
   "metadata": {},
   "outputs": [
    {
     "data": {
      "text/plain": [
       "5"
      ]
     },
     "execution_count": 6,
     "metadata": {},
     "output_type": "execute_result"
    }
   ],
   "source": [
    "def shapeArea(n):\n",
    "    return n**2+(n-1)**2\n",
    "\n",
    "shapeArea(2)"
   ]
  },
  {
   "cell_type": "markdown",
   "metadata": {},
   "source": [
    "### Make Array Consecutive 2"
   ]
  },
  {
   "cell_type": "code",
   "execution_count": 7,
   "metadata": {},
   "outputs": [
    {
     "data": {
      "text/plain": [
       "3"
      ]
     },
     "execution_count": 7,
     "metadata": {},
     "output_type": "execute_result"
    }
   ],
   "source": [
    "def makeArrayConsecutive2(statues):\n",
    "    count=0\n",
    "    for i in range(min(statues),max(statues)):\n",
    "        if i not in statues:\n",
    "            count+=1\n",
    "    return count\n",
    "\n",
    "makeArrayConsecutive2([6, 2, 3, 8])"
   ]
  },
  {
   "cell_type": "markdown",
   "metadata": {},
   "source": [
    "### almostIncreasingSequence"
   ]
  },
  {
   "cell_type": "code",
   "execution_count": 183,
   "metadata": {},
   "outputs": [
    {
     "data": {
      "text/plain": [
       "True"
      ]
     },
     "execution_count": 183,
     "metadata": {},
     "output_type": "execute_result"
    }
   ],
   "source": [
    "def almostIncreasingSequence(sequence):\n",
    "    sequenceCopy=sequence.copy()\n",
    "    if len(sequence)<=2:\n",
    "        return True\n",
    "    if len(set(sequence))<len(sequence)-1:\n",
    "        return False\n",
    "    for i in range (len(sequence)-1):\n",
    "        if sequence[i]>sequence[i+1]:\n",
    "            sequence.pop(i)\n",
    "            for j in range (len(sequence)-1):\n",
    "                if sequence[j]>sequence[j+1]:\n",
    "                    cas1= sequence==sorted(sequence)\n",
    "                    break\n",
    "            break\n",
    "    print(sequence==sorted(sequence),len(sequence)==len(set(sequence)))\n",
    "    cas1= sequence==sorted(sequence) and len(sequence)==len(set(sequence))\n",
    "    for i in range (len(sequenceCopy)-1):\n",
    "        if sequenceCopy[i]>sequenceCopy[i+1]:\n",
    "            sequenceCopy.pop(i+1)\n",
    "            for j in range (len(sequenceCopy)-1):\n",
    "                if sequenceCopy[j]>sequenceCopy[j+1]:\n",
    "                    cas2= sequenceCopy==sorted(sequenceCopy)\n",
    "                    break\n",
    "            break\n",
    "    cas2= sequenceCopy==sorted(sequenceCopy)and len(sequenceCopy)==len(set(sequenceCopy))\n",
    "    print(cas1,cas2)\n",
    "    return bool(cas1+cas2)\n",
    "\n",
    "seq=[1, 1]\n",
    "almostIncreasingSequence(seq)"
   ]
  },
  {
   "cell_type": "markdown",
   "metadata": {},
   "source": [
    "### matrixElementsSum"
   ]
  },
  {
   "cell_type": "code",
   "execution_count": 188,
   "metadata": {},
   "outputs": [
    {
     "data": {
      "text/plain": [
       "9"
      ]
     },
     "execution_count": 188,
     "metadata": {},
     "output_type": "execute_result"
    }
   ],
   "source": [
    "def matrixElementsSum(matrix):\n",
    "    haunted=[]\n",
    "    sum=0\n",
    "    for i in range(len(matrix)):\n",
    "        for j in range(len(matrix[i])):\n",
    "            if j not in haunted:\n",
    "                sum+=matrix[i][j]\n",
    "                if matrix[i][j]==0:\n",
    "                    haunted+=[j]\n",
    "    return sum\n",
    "\n",
    "mat = [[1, 1, 1, 0],[0, 5, 0, 1],[2, 1, 3, 10]]\n",
    "matrixElementsSum(mat)"
   ]
  },
  {
   "cell_type": "markdown",
   "metadata": {},
   "source": [
    "## Smooth Sailing\n",
    "### All Longest Strings"
   ]
  },
  {
   "cell_type": "code",
   "execution_count": 200,
   "metadata": {},
   "outputs": [
    {
     "data": {
      "text/plain": [
       "['aba', 'vcd', 'aba']"
      ]
     },
     "execution_count": 200,
     "metadata": {},
     "output_type": "execute_result"
    }
   ],
   "source": [
    "def allLongestStrings(inputArray):\n",
    "    tab=[]\n",
    "    for x in inputArray:\n",
    "        if len(x)==max([len(i) for i in inputArray]):\n",
    "            tab+=[x]\n",
    "    return tab\n",
    "\n",
    "ia = [\"aba\", \"aa\", \"ad\", \"vcd\", \"aba\"]\n",
    "allLongestStrings(ia)"
   ]
  },
  {
   "cell_type": "markdown",
   "metadata": {},
   "source": [
    "### commonCharacterCount"
   ]
  },
  {
   "cell_type": "code",
   "execution_count": 202,
   "metadata": {},
   "outputs": [
    {
     "data": {
      "text/plain": [
       "{'a', 'c'}"
      ]
     },
     "execution_count": 202,
     "metadata": {},
     "output_type": "execute_result"
    }
   ],
   "source": [
    "def commonCharacterCount(s1, s2):\n",
    "\n",
    "\n",
    "st1,st2 = \"aabcc\",\"adcaa\"\n",
    "commonCharacterCount(st1, st2)"
   ]
  },
  {
   "cell_type": "code",
   "execution_count": null,
   "metadata": {},
   "outputs": [],
   "source": []
  }
 ],
 "metadata": {
  "kernelspec": {
   "display_name": "Python 3",
   "language": "python",
   "name": "python3"
  },
  "language_info": {
   "codemirror_mode": {
    "name": "ipython",
    "version": 3
   },
   "file_extension": ".py",
   "mimetype": "text/x-python",
   "name": "python",
   "nbconvert_exporter": "python",
   "pygments_lexer": "ipython3",
   "version": "3.8.5"
  },
  "toc": {
   "base_numbering": 1,
   "nav_menu": {},
   "number_sections": true,
   "sideBar": true,
   "skip_h1_title": true,
   "title_cell": "Table of Contents",
   "title_sidebar": "Contents",
   "toc_cell": false,
   "toc_position": {},
   "toc_section_display": true,
   "toc_window_display": true
  },
  "varInspector": {
   "cols": {
    "lenName": 16,
    "lenType": 16,
    "lenVar": 40
   },
   "kernels_config": {
    "python": {
     "delete_cmd_postfix": "",
     "delete_cmd_prefix": "del ",
     "library": "var_list.py",
     "varRefreshCmd": "print(var_dic_list())"
    },
    "r": {
     "delete_cmd_postfix": ") ",
     "delete_cmd_prefix": "rm(",
     "library": "var_list.r",
     "varRefreshCmd": "cat(var_dic_list()) "
    }
   },
   "types_to_exclude": [
    "module",
    "function",
    "builtin_function_or_method",
    "instance",
    "_Feature"
   ],
   "window_display": true
  }
 },
 "nbformat": 4,
 "nbformat_minor": 4
}
